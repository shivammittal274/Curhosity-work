{
 "cells": [
  {
   "cell_type": "code",
   "execution_count": 1,
   "metadata": {},
   "outputs": [],
   "source": [
    "def pivot_points(security, ma):\n",
    "\n",
    "    security = security\n",
    "    ma_period = ma\n",
    "\n",
    "    end = dt.date.today()\n",
    "    start = end - dt.timedelta(365*10)\n",
    "\n",
    "    df = yf.download(security, start, end)\n",
    "    df['fast_sma'] = ta.trend.SMAIndicator(df['Close'], ma_period).sma_indicator()\n",
    "    df.drop(['Adj Close', 'Volume', 'Open', 'High', 'Low'], axis=1, inplace=True)\n",
    "\n",
    "    local_maxima = []\n",
    "    local_minima = []\n",
    "\n",
    "    for i in range(ma_period, len(df)-3):\n",
    "\n",
    "        values = df['fast_sma']\n",
    "\n",
    "        v1 = values[i-2]\n",
    "        v2 = values[i-1]\n",
    "        v3 = values[i]\n",
    "        v4 = values[i+1]\n",
    "        v5 = values[i+2]\n",
    "\n",
    "        if all(x<v3 for x in [v1, v2, v4, v5]):\n",
    "            local_maxima.append(df.index[i])\n",
    "\n",
    "        elif all(x>v3 for x in [v1, v2, v4, v5]):\n",
    "            local_minima.append(df.index[i])\n",
    "\n",
    "    maxima = pd.DataFrame(df.loc[local_maxima])\n",
    "    minima = pd.DataFrame(df.loc[local_minima])\n",
    "    \n",
    "    return df, maxima, minima"
   ]
  },
  {
   "cell_type": "code",
   "execution_count": 9,
   "metadata": {},
   "outputs": [
    {
     "name": "stderr",
     "output_type": "stream",
     "text": [
      "WARNING: Package(s) not found: yfinance\n"
     ]
    }
   ],
   "source": [
    "!pip show yfinance"
   ]
  },
  {
   "cell_type": "code",
   "execution_count": 10,
   "metadata": {},
   "outputs": [
    {
     "ename": "ModuleNotFoundError",
     "evalue": "No module named 'yfinance'",
     "output_type": "error",
     "traceback": [
      "\u001b[1;31m---------------------------------------------------------------------------\u001b[0m",
      "\u001b[1;31mModuleNotFoundError\u001b[0m                       Traceback (most recent call last)",
      "\u001b[1;32m<ipython-input-10-7083384f71e4>\u001b[0m in \u001b[0;36m<module>\u001b[1;34m\u001b[0m\n\u001b[0;32m      2\u001b[0m \u001b[1;32mimport\u001b[0m \u001b[0mdatetime\u001b[0m \u001b[1;32mas\u001b[0m \u001b[0mdt\u001b[0m\u001b[1;33m\u001b[0m\u001b[1;33m\u001b[0m\u001b[0m\n\u001b[0;32m      3\u001b[0m \u001b[1;32mimport\u001b[0m \u001b[0mmatplotlib\u001b[0m\u001b[1;33m.\u001b[0m\u001b[0mpyplot\u001b[0m \u001b[1;32mas\u001b[0m \u001b[0mplt\u001b[0m\u001b[1;33m\u001b[0m\u001b[1;33m\u001b[0m\u001b[0m\n\u001b[1;32m----> 4\u001b[1;33m \u001b[1;32mimport\u001b[0m \u001b[0myfinance\u001b[0m \u001b[1;32mas\u001b[0m \u001b[0myf\u001b[0m\u001b[1;33m\u001b[0m\u001b[1;33m\u001b[0m\u001b[0m\n\u001b[0m",
      "\u001b[1;31mModuleNotFoundError\u001b[0m: No module named 'yfinance'"
     ]
    }
   ],
   "source": [
    "import pandas as pd\n",
    "import datetime as dt\n",
    "import matplotlib.pyplot as plt\n",
    "import yfinance as yf"
   ]
  },
  {
   "cell_type": "code",
   "execution_count": null,
   "metadata": {},
   "outputs": [],
   "source": [
    "df, maxima, minima = pivot_points('^NSEI', 2)\n",
    "max_min = pd.concat([maxima, minima]).sort_index()"
   ]
  },
  {
   "cell_type": "code",
   "execution_count": null,
   "metadata": {},
   "outputs": [],
   "source": []
  }
 ],
 "metadata": {
  "kernelspec": {
   "display_name": "Python 3",
   "language": "python",
   "name": "python3"
  },
  "language_info": {
   "codemirror_mode": {
    "name": "ipython",
    "version": 3
   },
   "file_extension": ".py",
   "mimetype": "text/x-python",
   "name": "python",
   "nbconvert_exporter": "python",
   "pygments_lexer": "ipython3",
   "version": "3.7.6"
  }
 },
 "nbformat": 4,
 "nbformat_minor": 4
}
